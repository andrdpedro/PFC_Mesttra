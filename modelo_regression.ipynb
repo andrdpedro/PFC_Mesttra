{
 "nbformat": 4,
 "nbformat_minor": 5,
 "metadata": {
  "colab": {
   "name": "modelo_regression.ipynb",
   "provenance": [],
   "collapsed_sections": [
    "d1f80b0d"
   ]
  },
  "kernelspec": {
   "display_name": "Python 3",
   "language": "python",
   "name": "python3"
  },
  "language_info": {
   "codemirror_mode": {
    "name": "ipython",
    "version": 3
   },
   "file_extension": ".py",
   "mimetype": "text/x-python",
   "name": "python",
   "nbconvert_exporter": "python",
   "pygments_lexer": "ipython3",
   "version": "3.8.8"
  },
  "toc": {
   "base_numbering": 1,
   "nav_menu": {},
   "number_sections": true,
   "sideBar": true,
   "skip_h1_title": false,
   "title_cell": "Table of Contents",
   "title_sidebar": "Contents",
   "toc_cell": false,
   "toc_position": {},
   "toc_section_display": true,
   "toc_window_display": true
  }
 },
 "cells": [
  {
   "cell_type": "markdown",
   "metadata": {
    "id": "pbN9N7HeCf4q"
   },
   "source": [
    "# REGRESSÃO\n",
    "\n",
    "Este modelo **prevê o número de passageiros pagos** em um voo com certas características, assim permitindo uma estimativa da taxa de ocupação."
   ],
   "id": "pbN9N7HeCf4q"
  },
  {
   "cell_type": "markdown",
   "metadata": {
    "id": "4a669477"
   },
   "source": [
    "___\n",
    "## Bibliotecas"
   ],
   "id": "4a669477"
  },
  {
   "cell_type": "code",
   "metadata": {
    "ExecuteTime": {
     "end_time": "2021-11-30T17:31:38.130957Z",
     "start_time": "2021-11-30T17:31:38.125033Z"
    },
    "id": "8dcd7e52"
   },
   "source": [
    "# Básico para Data Science\n",
    "from tqdm import tqdm\n",
    "import pandas as pd\n",
    "import numpy as np\n",
    "import matplotlib.pyplot as plt\n",
    "import seaborn as sns\n",
    "import itertools\n",
    "import re\n",
    "import pickle\n",
    "\n",
    "# Pipeline / Transformação\n",
    "from sklearn.decomposition import PCA\n",
    "from sklearn.decomposition import IncrementalPCA\n",
    "from sklearn.pipeline import Pipeline\n",
    "from sklearn.pipeline import make_pipeline\n",
    "from sklearn.compose import make_column_transformer\n",
    "from sklearn.preprocessing import MinMaxScaler\n",
    "from sklearn.preprocessing import OneHotEncoder\n",
    "from sklearn.model_selection import train_test_split\n",
    "from sklearn.ensemble import RandomForestRegressor\n",
    "\n",
    "# Avaliação de performance dos modelos\n",
    "from sklearn import metrics\n",
    "from sklearn.model_selection import cross_validate\n",
    "from sklearn.model_selection import RandomizedSearchCV\n",
    "\n",
    "# Otimização\n",
    "from sklearn.model_selection import GridSearchCV\n",
    "from sklearn.ensemble import VotingClassifier\n",
    "\n",
    "# Configurando exibição dos datasets\n",
    "pd.options.display.max_rows = 100 # máximo de 100 linhas a serem exibidas\n",
    "pd.options.display.max_columns = 100 # máximo de 100 colunas a serem exibidas\n",
    "\n",
    "# Faz com que todos os plots tenham o estilo do seaborn\n",
    "sns.set_theme()\n",
    "\n",
    "# Ignora avisos\n",
    "import warnings\n",
    "warnings.filterwarnings(\"ignore\")"
   ],
   "id": "8dcd7e52",
   "execution_count": 1,
   "outputs": []
  },
  {
   "cell_type": "code",
   "metadata": {
    "ExecuteTime": {
     "end_time": "2021-11-30T17:31:38.484639Z",
     "start_time": "2021-11-30T17:31:38.474715Z"
    },
    "id": "PCFFtjg2Tdj3"
   },
   "source": [
    "# from google.colab import drive\n",
    "# drive.mount('/gdrive')\n",
    "# %cd /gdrive"
   ],
   "id": "PCFFtjg2Tdj3",
   "execution_count": null,
   "outputs": []
  },
  {
   "cell_type": "markdown",
   "metadata": {
    "id": "nn-do9MJHMbw"
   },
   "source": [
    "___\n",
    "### Carregando e inspecionando a base"
   ],
   "id": "nn-do9MJHMbw"
  },
  {
   "cell_type": "code",
   "metadata": {
    "ExecuteTime": {
     "end_time": "2021-11-30T17:31:49.572083Z",
     "start_time": "2021-11-30T17:31:38.854541Z"
    },
    "id": "64f4d904"
   },
   "source": [
    "# # Rodar direto do ambiente de produção\n",
    "# df = pd.read_csv('/gdrive/MyDrive/Projeto_DS/Ambiente_Producao/datalake/business+/basica_passagem_dolar_completa_2016-2021.csv', sep=';', encoding='latin1', low_memory=False)\n",
    "\n",
    "# Rodar em ambiente local, fazendo o download do arquivo 'base_grupo_3.zip'\n",
    "# https://drive.google.com/file/d/14VMbZXQssmIMOJQRlUMMyewoEQg2v5hB/view?usp=sharing\n",
    "from zipfile import ZipFile\n",
    "zip_file = ZipFile('E:/backup/Projeto Final QADS/base_grupo_3.zip')\n",
    "df = pd.read_csv(zip_file.open('base_grupo_3.csv'),sep=';', encoding='latin-1')"
   ],
   "id": "64f4d904",
   "execution_count": 14,
   "outputs": []
  },
  {
   "cell_type": "code",
   "metadata": {
    "ExecuteTime": {
     "end_time": "2021-11-30T17:31:49.602834Z",
     "start_time": "2021-11-30T17:31:49.573572Z"
    },
    "colab": {
     "base_uri": "https://localhost:8080/",
     "height": 313
    },
    "id": "fbbf3908",
    "outputId": "3089623b-d235-4f9f-e0b2-0217b320c81c"
   },
   "source": [
    "df.head()"
   ],
   "id": "fbbf3908",
   "execution_count": 15,
   "outputs": [
    {
     "data": {
      "text/plain": "           dt  nr_ano  nr_mes  nr_dia nm_dia_semana sg_empresa_icao  \\\n0  2016-01-02    2016       1       2           SAB             ONE   \n1  2016-01-03    2016       1       3           DOM             ONE   \n2  2016-01-04    2016       1       4           SEG             ONE   \n3  2016-01-05    2016       1       5           TER             ONE   \n4  2016-01-06    2016       1       6           QUA             ONE   \n\n  hr_partida_real hr_chegada_real sg_icao_origem sg_icao_destino  \\\n0        05:58:00        09:01:00           SBMO            SBGR   \n1        05:53:00        08:57:00           SBMO            SBGR   \n2        06:00:00        09:05:00           SBMO            SBGR   \n3        05:59:00        08:59:00           SBMO            SBGR   \n4        05:55:00        09:00:00           SBMO            SBGR   \n\n  nm_regiao_origem nm_regiao_destino sg_uf_origem sg_uf_destino  \\\n0         NORDESTE           SUDESTE           AL            SP   \n1         NORDESTE           SUDESTE           AL            SP   \n2         NORDESTE           SUDESTE           AL            SP   \n3         NORDESTE           SUDESTE           AL            SP   \n4         NORDESTE           SUDESTE           AL            SP   \n\n  sg_equipamento_icao  km_distancia  nr_horas_voadas  lt_combustivel  \\\n0                A320        1920.0             3.05            8480   \n1                A320        1920.0             3.07            9009   \n2                A320        1920.0             3.08            8758   \n3                A320        1920.0             3.00            8512   \n4                A320        1920.0             3.08            8498   \n\n   nr_assentos_ofertados  nr_passag_pagos  nr_passag_gratis  kg_payload  \\\n0                    162              156                 0       18100   \n1                    162              158                 1       18500   \n2                    162              162                 0       18500   \n3                    162              144                 3       18500   \n4                    162              131                 1       18500   \n\n   kg_peso  kg_carga_paga  kg_carga_gratis  kg_correio    nr_ask    nr_rpk  \\\n0    14027              0                0           0  311040.0  299520.0   \n1    14134              0                0           0  311040.0  303360.0   \n2    14508              0                0           0  311040.0  311040.0   \n3    12995             38                0           0  311040.0  276480.0   \n4    11750             33                0           0  311040.0  251520.0   \n\n    nr_atk   nr_rtk  lf_passag   lf_peso  rend_combustivel   dolar  \\\n0  34752.0  26931.0   0.962963  0.774948            0.2264  3.9973   \n1  35520.0  26993.0   0.975309  0.759938            0.2131  3.9973   \n2  35520.0  27855.0   1.000000  0.784206            0.2192  3.9973   \n3  35520.0  24518.0   0.888889  0.690259            0.2256  3.9973   \n4  35520.0  22416.0   0.808642  0.631081            0.2259  3.9973   \n\n   ticket_medio  \n0         540.0  \n1         540.0  \n2         540.0  \n3         540.0  \n4         540.0  ",
      "text/html": "<div>\n<style scoped>\n    .dataframe tbody tr th:only-of-type {\n        vertical-align: middle;\n    }\n\n    .dataframe tbody tr th {\n        vertical-align: top;\n    }\n\n    .dataframe thead th {\n        text-align: right;\n    }\n</style>\n<table border=\"1\" class=\"dataframe\">\n  <thead>\n    <tr style=\"text-align: right;\">\n      <th></th>\n      <th>dt</th>\n      <th>nr_ano</th>\n      <th>nr_mes</th>\n      <th>nr_dia</th>\n      <th>nm_dia_semana</th>\n      <th>sg_empresa_icao</th>\n      <th>hr_partida_real</th>\n      <th>hr_chegada_real</th>\n      <th>sg_icao_origem</th>\n      <th>sg_icao_destino</th>\n      <th>nm_regiao_origem</th>\n      <th>nm_regiao_destino</th>\n      <th>sg_uf_origem</th>\n      <th>sg_uf_destino</th>\n      <th>sg_equipamento_icao</th>\n      <th>km_distancia</th>\n      <th>nr_horas_voadas</th>\n      <th>lt_combustivel</th>\n      <th>nr_assentos_ofertados</th>\n      <th>nr_passag_pagos</th>\n      <th>nr_passag_gratis</th>\n      <th>kg_payload</th>\n      <th>kg_peso</th>\n      <th>kg_carga_paga</th>\n      <th>kg_carga_gratis</th>\n      <th>kg_correio</th>\n      <th>nr_ask</th>\n      <th>nr_rpk</th>\n      <th>nr_atk</th>\n      <th>nr_rtk</th>\n      <th>lf_passag</th>\n      <th>lf_peso</th>\n      <th>rend_combustivel</th>\n      <th>dolar</th>\n      <th>ticket_medio</th>\n    </tr>\n  </thead>\n  <tbody>\n    <tr>\n      <th>0</th>\n      <td>2016-01-02</td>\n      <td>2016</td>\n      <td>1</td>\n      <td>2</td>\n      <td>SAB</td>\n      <td>ONE</td>\n      <td>05:58:00</td>\n      <td>09:01:00</td>\n      <td>SBMO</td>\n      <td>SBGR</td>\n      <td>NORDESTE</td>\n      <td>SUDESTE</td>\n      <td>AL</td>\n      <td>SP</td>\n      <td>A320</td>\n      <td>1920.0</td>\n      <td>3.05</td>\n      <td>8480</td>\n      <td>162</td>\n      <td>156</td>\n      <td>0</td>\n      <td>18100</td>\n      <td>14027</td>\n      <td>0</td>\n      <td>0</td>\n      <td>0</td>\n      <td>311040.0</td>\n      <td>299520.0</td>\n      <td>34752.0</td>\n      <td>26931.0</td>\n      <td>0.962963</td>\n      <td>0.774948</td>\n      <td>0.2264</td>\n      <td>3.9973</td>\n      <td>540.0</td>\n    </tr>\n    <tr>\n      <th>1</th>\n      <td>2016-01-03</td>\n      <td>2016</td>\n      <td>1</td>\n      <td>3</td>\n      <td>DOM</td>\n      <td>ONE</td>\n      <td>05:53:00</td>\n      <td>08:57:00</td>\n      <td>SBMO</td>\n      <td>SBGR</td>\n      <td>NORDESTE</td>\n      <td>SUDESTE</td>\n      <td>AL</td>\n      <td>SP</td>\n      <td>A320</td>\n      <td>1920.0</td>\n      <td>3.07</td>\n      <td>9009</td>\n      <td>162</td>\n      <td>158</td>\n      <td>1</td>\n      <td>18500</td>\n      <td>14134</td>\n      <td>0</td>\n      <td>0</td>\n      <td>0</td>\n      <td>311040.0</td>\n      <td>303360.0</td>\n      <td>35520.0</td>\n      <td>26993.0</td>\n      <td>0.975309</td>\n      <td>0.759938</td>\n      <td>0.2131</td>\n      <td>3.9973</td>\n      <td>540.0</td>\n    </tr>\n    <tr>\n      <th>2</th>\n      <td>2016-01-04</td>\n      <td>2016</td>\n      <td>1</td>\n      <td>4</td>\n      <td>SEG</td>\n      <td>ONE</td>\n      <td>06:00:00</td>\n      <td>09:05:00</td>\n      <td>SBMO</td>\n      <td>SBGR</td>\n      <td>NORDESTE</td>\n      <td>SUDESTE</td>\n      <td>AL</td>\n      <td>SP</td>\n      <td>A320</td>\n      <td>1920.0</td>\n      <td>3.08</td>\n      <td>8758</td>\n      <td>162</td>\n      <td>162</td>\n      <td>0</td>\n      <td>18500</td>\n      <td>14508</td>\n      <td>0</td>\n      <td>0</td>\n      <td>0</td>\n      <td>311040.0</td>\n      <td>311040.0</td>\n      <td>35520.0</td>\n      <td>27855.0</td>\n      <td>1.000000</td>\n      <td>0.784206</td>\n      <td>0.2192</td>\n      <td>3.9973</td>\n      <td>540.0</td>\n    </tr>\n    <tr>\n      <th>3</th>\n      <td>2016-01-05</td>\n      <td>2016</td>\n      <td>1</td>\n      <td>5</td>\n      <td>TER</td>\n      <td>ONE</td>\n      <td>05:59:00</td>\n      <td>08:59:00</td>\n      <td>SBMO</td>\n      <td>SBGR</td>\n      <td>NORDESTE</td>\n      <td>SUDESTE</td>\n      <td>AL</td>\n      <td>SP</td>\n      <td>A320</td>\n      <td>1920.0</td>\n      <td>3.00</td>\n      <td>8512</td>\n      <td>162</td>\n      <td>144</td>\n      <td>3</td>\n      <td>18500</td>\n      <td>12995</td>\n      <td>38</td>\n      <td>0</td>\n      <td>0</td>\n      <td>311040.0</td>\n      <td>276480.0</td>\n      <td>35520.0</td>\n      <td>24518.0</td>\n      <td>0.888889</td>\n      <td>0.690259</td>\n      <td>0.2256</td>\n      <td>3.9973</td>\n      <td>540.0</td>\n    </tr>\n    <tr>\n      <th>4</th>\n      <td>2016-01-06</td>\n      <td>2016</td>\n      <td>1</td>\n      <td>6</td>\n      <td>QUA</td>\n      <td>ONE</td>\n      <td>05:55:00</td>\n      <td>09:00:00</td>\n      <td>SBMO</td>\n      <td>SBGR</td>\n      <td>NORDESTE</td>\n      <td>SUDESTE</td>\n      <td>AL</td>\n      <td>SP</td>\n      <td>A320</td>\n      <td>1920.0</td>\n      <td>3.08</td>\n      <td>8498</td>\n      <td>162</td>\n      <td>131</td>\n      <td>1</td>\n      <td>18500</td>\n      <td>11750</td>\n      <td>33</td>\n      <td>0</td>\n      <td>0</td>\n      <td>311040.0</td>\n      <td>251520.0</td>\n      <td>35520.0</td>\n      <td>22416.0</td>\n      <td>0.808642</td>\n      <td>0.631081</td>\n      <td>0.2259</td>\n      <td>3.9973</td>\n      <td>540.0</td>\n    </tr>\n  </tbody>\n</table>\n</div>"
     },
     "execution_count": 15,
     "metadata": {},
     "output_type": "execute_result"
    }
   ]
  },
  {
   "cell_type": "markdown",
   "metadata": {
    "id": "c0aa9c85"
   },
   "source": [
    "## Diminuindo uso de memória do Dataset"
   ],
   "id": "c0aa9c85"
  },
  {
   "cell_type": "code",
   "metadata": {
    "ExecuteTime": {
     "end_time": "2021-11-30T17:31:49.618213Z",
     "start_time": "2021-11-30T17:31:49.604323Z"
    },
    "colab": {
     "base_uri": "https://localhost:8080/"
    },
    "id": "4e080aa0",
    "outputId": "c5ebce95-ded6-4efd-a033-80f6d8ecd3c1"
   },
   "source": [
    "df.info()"
   ],
   "id": "4e080aa0",
   "execution_count": 16,
   "outputs": [
    {
     "name": "stdout",
     "output_type": "stream",
     "text": [
      "<class 'pandas.core.frame.DataFrame'>\n",
      "RangeIndex: 3686261 entries, 0 to 3686260\n",
      "Data columns (total 35 columns):\n",
      " #   Column                 Dtype  \n",
      "---  ------                 -----  \n",
      " 0   dt                     object \n",
      " 1   nr_ano                 int64  \n",
      " 2   nr_mes                 int64  \n",
      " 3   nr_dia                 int64  \n",
      " 4   nm_dia_semana          object \n",
      " 5   sg_empresa_icao        object \n",
      " 6   hr_partida_real        object \n",
      " 7   hr_chegada_real        object \n",
      " 8   sg_icao_origem         object \n",
      " 9   sg_icao_destino        object \n",
      " 10  nm_regiao_origem       object \n",
      " 11  nm_regiao_destino      object \n",
      " 12  sg_uf_origem           object \n",
      " 13  sg_uf_destino          object \n",
      " 14  sg_equipamento_icao    object \n",
      " 15  km_distancia           float64\n",
      " 16  nr_horas_voadas        float64\n",
      " 17  lt_combustivel         int64  \n",
      " 18  nr_assentos_ofertados  int64  \n",
      " 19  nr_passag_pagos        int64  \n",
      " 20  nr_passag_gratis       int64  \n",
      " 21  kg_payload             int64  \n",
      " 22  kg_peso                int64  \n",
      " 23  kg_carga_paga          int64  \n",
      " 24  kg_carga_gratis        int64  \n",
      " 25  kg_correio             int64  \n",
      " 26  nr_ask                 float64\n",
      " 27  nr_rpk                 float64\n",
      " 28  nr_atk                 float64\n",
      " 29  nr_rtk                 float64\n",
      " 30  lf_passag              float64\n",
      " 31  lf_peso                float64\n",
      " 32  rend_combustivel       float64\n",
      " 33  dolar                  float64\n",
      " 34  ticket_medio           float64\n",
      "dtypes: float64(11), int64(12), object(12)\n",
      "memory usage: 984.3+ MB\n"
     ]
    }
   ]
  },
  {
   "cell_type": "code",
   "metadata": {
    "ExecuteTime": {
     "end_time": "2021-11-30T17:31:50.141117Z",
     "start_time": "2021-11-30T17:31:49.619725Z"
    },
    "id": "6f1c4ed7"
   },
   "source": [
    "for column in df.columns:\n",
    "    if np.issubdtype(df[column], np.integer) == True:\n",
    "        df[column] = df[column].astype(np.int32)"
   ],
   "id": "6f1c4ed7",
   "execution_count": 17,
   "outputs": []
  },
  {
   "cell_type": "code",
   "metadata": {
    "ExecuteTime": {
     "end_time": "2021-11-30T17:31:50.156369Z",
     "start_time": "2021-11-30T17:31:50.142110Z"
    },
    "id": "6fcc8bab"
   },
   "source": [
    "colunas_int16 = [\n",
    "    'nr_ano', \n",
    "     'km_distancia', \n",
    "     'lt_combustivel', \n",
    "     'nr_assentos_ofertados', \n",
    "     'nr_passag_pagos', \n",
    "     'kg_correio', \n",
    "     'nr_ano',\n",
    "     'ticket_medio'\n",
    "]"
   ],
   "id": "6fcc8bab",
   "execution_count": 18,
   "outputs": []
  },
  {
   "cell_type": "code",
   "metadata": {
    "ExecuteTime": {
     "end_time": "2021-11-30T17:31:50.171515Z",
     "start_time": "2021-11-30T17:31:50.157362Z"
    },
    "id": "08774880"
   },
   "source": [
    "colunas_int8 = [\n",
    "    'nr_mes',\n",
    "    'nr_dia',\n",
    "    'nr_dia',\n",
    "    'nr_horas_voadas',\n",
    "    'nr_passag_gratis',\n",
    "    'mes'\n",
    "]"
   ],
   "id": "08774880",
   "execution_count": 19,
   "outputs": []
  },
  {
   "cell_type": "code",
   "metadata": {
    "ExecuteTime": {
     "end_time": "2021-11-30T17:31:50.356447Z",
     "start_time": "2021-11-30T17:31:50.172746Z"
    },
    "id": "d7a70992"
   },
   "source": [
    "for column in colunas_int16:\n",
    "    df[column] = df[column].astype(np.int16)\n",
    "# for column in colunas_int8:\n",
    "#     df[column] = df[column].astype(np.int8)"
   ],
   "id": "d7a70992",
   "execution_count": 20,
   "outputs": []
  },
  {
   "cell_type": "code",
   "metadata": {
    "ExecuteTime": {
     "end_time": "2021-11-30T17:31:50.709870Z",
     "start_time": "2021-11-30T17:31:50.358325Z"
    },
    "id": "1fffe37a"
   },
   "source": [
    "for column in df.columns:\n",
    "    if np.issubdtype(df[column], np.float_) == True:\n",
    "        df[column] = df[column].astype(np.float32)"
   ],
   "id": "1fffe37a",
   "execution_count": 21,
   "outputs": []
  },
  {
   "cell_type": "code",
   "metadata": {
    "ExecuteTime": {
     "end_time": "2021-11-30T17:31:53.308403Z",
     "start_time": "2021-11-30T17:31:50.711389Z"
    },
    "id": "2c8f248b"
   },
   "source": [
    "for column in df.columns:\n",
    "    if column == 'dt':\n",
    "        continue\n",
    "    elif df[column].dtype.name == 'object':\n",
    "        df[column] = df[column].astype('category')"
   ],
   "id": "2c8f248b",
   "execution_count": 22,
   "outputs": []
  },
  {
   "cell_type": "code",
   "metadata": {
    "ExecuteTime": {
     "end_time": "2021-11-30T17:31:53.339049Z",
     "start_time": "2021-11-30T17:31:53.309401Z"
    },
    "colab": {
     "base_uri": "https://localhost:8080/"
    },
    "id": "fae99d48",
    "outputId": "50525b98-10c7-4dce-8cda-fe783fac02c6"
   },
   "source": [
    "df.info()"
   ],
   "id": "fae99d48",
   "execution_count": 23,
   "outputs": [
    {
     "name": "stdout",
     "output_type": "stream",
     "text": [
      "<class 'pandas.core.frame.DataFrame'>\n",
      "RangeIndex: 3686261 entries, 0 to 3686260\n",
      "Data columns (total 35 columns):\n",
      " #   Column                 Dtype   \n",
      "---  ------                 -----   \n",
      " 0   dt                     object  \n",
      " 1   nr_ano                 int16   \n",
      " 2   nr_mes                 int32   \n",
      " 3   nr_dia                 int32   \n",
      " 4   nm_dia_semana          category\n",
      " 5   sg_empresa_icao        category\n",
      " 6   hr_partida_real        category\n",
      " 7   hr_chegada_real        category\n",
      " 8   sg_icao_origem         category\n",
      " 9   sg_icao_destino        category\n",
      " 10  nm_regiao_origem       category\n",
      " 11  nm_regiao_destino      category\n",
      " 12  sg_uf_origem           category\n",
      " 13  sg_uf_destino          category\n",
      " 14  sg_equipamento_icao    category\n",
      " 15  km_distancia           int16   \n",
      " 16  nr_horas_voadas        float32 \n",
      " 17  lt_combustivel         int16   \n",
      " 18  nr_assentos_ofertados  int16   \n",
      " 19  nr_passag_pagos        int16   \n",
      " 20  nr_passag_gratis       int32   \n",
      " 21  kg_payload             int32   \n",
      " 22  kg_peso                int32   \n",
      " 23  kg_carga_paga          int32   \n",
      " 24  kg_carga_gratis        int32   \n",
      " 25  kg_correio             int16   \n",
      " 26  nr_ask                 float32 \n",
      " 27  nr_rpk                 float32 \n",
      " 28  nr_atk                 float32 \n",
      " 29  nr_rtk                 float32 \n",
      " 30  lf_passag              float32 \n",
      " 31  lf_peso                float32 \n",
      " 32  rend_combustivel       float32 \n",
      " 33  dolar                  float32 \n",
      " 34  ticket_medio           int16   \n",
      "dtypes: category(11), float32(9), int16(7), int32(7), object(1)\n",
      "memory usage: 355.2+ MB\n"
     ]
    }
   ]
  },
  {
   "cell_type": "code",
   "metadata": {
    "ExecuteTime": {
     "end_time": "2021-11-30T17:31:53.369839Z",
     "start_time": "2021-11-30T17:31:53.340044Z"
    },
    "colab": {
     "base_uri": "https://localhost:8080/",
     "height": 313
    },
    "id": "e5c28734",
    "outputId": "c9903a45-1143-402d-a832-11f9463432e2"
   },
   "source": [
    "df.head()"
   ],
   "id": "e5c28734",
   "execution_count": 24,
   "outputs": [
    {
     "data": {
      "text/plain": "           dt  nr_ano  nr_mes  nr_dia nm_dia_semana sg_empresa_icao  \\\n0  2016-01-02    2016       1       2           SAB             ONE   \n1  2016-01-03    2016       1       3           DOM             ONE   \n2  2016-01-04    2016       1       4           SEG             ONE   \n3  2016-01-05    2016       1       5           TER             ONE   \n4  2016-01-06    2016       1       6           QUA             ONE   \n\n  hr_partida_real hr_chegada_real sg_icao_origem sg_icao_destino  \\\n0        05:58:00        09:01:00           SBMO            SBGR   \n1        05:53:00        08:57:00           SBMO            SBGR   \n2        06:00:00        09:05:00           SBMO            SBGR   \n3        05:59:00        08:59:00           SBMO            SBGR   \n4        05:55:00        09:00:00           SBMO            SBGR   \n\n  nm_regiao_origem nm_regiao_destino sg_uf_origem sg_uf_destino  \\\n0         NORDESTE           SUDESTE           AL            SP   \n1         NORDESTE           SUDESTE           AL            SP   \n2         NORDESTE           SUDESTE           AL            SP   \n3         NORDESTE           SUDESTE           AL            SP   \n4         NORDESTE           SUDESTE           AL            SP   \n\n  sg_equipamento_icao  km_distancia  nr_horas_voadas  lt_combustivel  \\\n0                A320          1920             3.05            8480   \n1                A320          1920             3.07            9009   \n2                A320          1920             3.08            8758   \n3                A320          1920             3.00            8512   \n4                A320          1920             3.08            8498   \n\n   nr_assentos_ofertados  nr_passag_pagos  nr_passag_gratis  kg_payload  \\\n0                    162              156                 0       18100   \n1                    162              158                 1       18500   \n2                    162              162                 0       18500   \n3                    162              144                 3       18500   \n4                    162              131                 1       18500   \n\n   kg_peso  kg_carga_paga  kg_carga_gratis  kg_correio    nr_ask    nr_rpk  \\\n0    14027              0                0           0  311040.0  299520.0   \n1    14134              0                0           0  311040.0  303360.0   \n2    14508              0                0           0  311040.0  311040.0   \n3    12995             38                0           0  311040.0  276480.0   \n4    11750             33                0           0  311040.0  251520.0   \n\n    nr_atk   nr_rtk  lf_passag   lf_peso  rend_combustivel   dolar  \\\n0  34752.0  26931.0   0.962963  0.774948            0.2264  3.9973   \n1  35520.0  26993.0   0.975309  0.759938            0.2131  3.9973   \n2  35520.0  27855.0   1.000000  0.784206            0.2192  3.9973   \n3  35520.0  24518.0   0.888889  0.690259            0.2256  3.9973   \n4  35520.0  22416.0   0.808642  0.631081            0.2259  3.9973   \n\n   ticket_medio  \n0           540  \n1           540  \n2           540  \n3           540  \n4           540  ",
      "text/html": "<div>\n<style scoped>\n    .dataframe tbody tr th:only-of-type {\n        vertical-align: middle;\n    }\n\n    .dataframe tbody tr th {\n        vertical-align: top;\n    }\n\n    .dataframe thead th {\n        text-align: right;\n    }\n</style>\n<table border=\"1\" class=\"dataframe\">\n  <thead>\n    <tr style=\"text-align: right;\">\n      <th></th>\n      <th>dt</th>\n      <th>nr_ano</th>\n      <th>nr_mes</th>\n      <th>nr_dia</th>\n      <th>nm_dia_semana</th>\n      <th>sg_empresa_icao</th>\n      <th>hr_partida_real</th>\n      <th>hr_chegada_real</th>\n      <th>sg_icao_origem</th>\n      <th>sg_icao_destino</th>\n      <th>nm_regiao_origem</th>\n      <th>nm_regiao_destino</th>\n      <th>sg_uf_origem</th>\n      <th>sg_uf_destino</th>\n      <th>sg_equipamento_icao</th>\n      <th>km_distancia</th>\n      <th>nr_horas_voadas</th>\n      <th>lt_combustivel</th>\n      <th>nr_assentos_ofertados</th>\n      <th>nr_passag_pagos</th>\n      <th>nr_passag_gratis</th>\n      <th>kg_payload</th>\n      <th>kg_peso</th>\n      <th>kg_carga_paga</th>\n      <th>kg_carga_gratis</th>\n      <th>kg_correio</th>\n      <th>nr_ask</th>\n      <th>nr_rpk</th>\n      <th>nr_atk</th>\n      <th>nr_rtk</th>\n      <th>lf_passag</th>\n      <th>lf_peso</th>\n      <th>rend_combustivel</th>\n      <th>dolar</th>\n      <th>ticket_medio</th>\n    </tr>\n  </thead>\n  <tbody>\n    <tr>\n      <th>0</th>\n      <td>2016-01-02</td>\n      <td>2016</td>\n      <td>1</td>\n      <td>2</td>\n      <td>SAB</td>\n      <td>ONE</td>\n      <td>05:58:00</td>\n      <td>09:01:00</td>\n      <td>SBMO</td>\n      <td>SBGR</td>\n      <td>NORDESTE</td>\n      <td>SUDESTE</td>\n      <td>AL</td>\n      <td>SP</td>\n      <td>A320</td>\n      <td>1920</td>\n      <td>3.05</td>\n      <td>8480</td>\n      <td>162</td>\n      <td>156</td>\n      <td>0</td>\n      <td>18100</td>\n      <td>14027</td>\n      <td>0</td>\n      <td>0</td>\n      <td>0</td>\n      <td>311040.0</td>\n      <td>299520.0</td>\n      <td>34752.0</td>\n      <td>26931.0</td>\n      <td>0.962963</td>\n      <td>0.774948</td>\n      <td>0.2264</td>\n      <td>3.9973</td>\n      <td>540</td>\n    </tr>\n    <tr>\n      <th>1</th>\n      <td>2016-01-03</td>\n      <td>2016</td>\n      <td>1</td>\n      <td>3</td>\n      <td>DOM</td>\n      <td>ONE</td>\n      <td>05:53:00</td>\n      <td>08:57:00</td>\n      <td>SBMO</td>\n      <td>SBGR</td>\n      <td>NORDESTE</td>\n      <td>SUDESTE</td>\n      <td>AL</td>\n      <td>SP</td>\n      <td>A320</td>\n      <td>1920</td>\n      <td>3.07</td>\n      <td>9009</td>\n      <td>162</td>\n      <td>158</td>\n      <td>1</td>\n      <td>18500</td>\n      <td>14134</td>\n      <td>0</td>\n      <td>0</td>\n      <td>0</td>\n      <td>311040.0</td>\n      <td>303360.0</td>\n      <td>35520.0</td>\n      <td>26993.0</td>\n      <td>0.975309</td>\n      <td>0.759938</td>\n      <td>0.2131</td>\n      <td>3.9973</td>\n      <td>540</td>\n    </tr>\n    <tr>\n      <th>2</th>\n      <td>2016-01-04</td>\n      <td>2016</td>\n      <td>1</td>\n      <td>4</td>\n      <td>SEG</td>\n      <td>ONE</td>\n      <td>06:00:00</td>\n      <td>09:05:00</td>\n      <td>SBMO</td>\n      <td>SBGR</td>\n      <td>NORDESTE</td>\n      <td>SUDESTE</td>\n      <td>AL</td>\n      <td>SP</td>\n      <td>A320</td>\n      <td>1920</td>\n      <td>3.08</td>\n      <td>8758</td>\n      <td>162</td>\n      <td>162</td>\n      <td>0</td>\n      <td>18500</td>\n      <td>14508</td>\n      <td>0</td>\n      <td>0</td>\n      <td>0</td>\n      <td>311040.0</td>\n      <td>311040.0</td>\n      <td>35520.0</td>\n      <td>27855.0</td>\n      <td>1.000000</td>\n      <td>0.784206</td>\n      <td>0.2192</td>\n      <td>3.9973</td>\n      <td>540</td>\n    </tr>\n    <tr>\n      <th>3</th>\n      <td>2016-01-05</td>\n      <td>2016</td>\n      <td>1</td>\n      <td>5</td>\n      <td>TER</td>\n      <td>ONE</td>\n      <td>05:59:00</td>\n      <td>08:59:00</td>\n      <td>SBMO</td>\n      <td>SBGR</td>\n      <td>NORDESTE</td>\n      <td>SUDESTE</td>\n      <td>AL</td>\n      <td>SP</td>\n      <td>A320</td>\n      <td>1920</td>\n      <td>3.00</td>\n      <td>8512</td>\n      <td>162</td>\n      <td>144</td>\n      <td>3</td>\n      <td>18500</td>\n      <td>12995</td>\n      <td>38</td>\n      <td>0</td>\n      <td>0</td>\n      <td>311040.0</td>\n      <td>276480.0</td>\n      <td>35520.0</td>\n      <td>24518.0</td>\n      <td>0.888889</td>\n      <td>0.690259</td>\n      <td>0.2256</td>\n      <td>3.9973</td>\n      <td>540</td>\n    </tr>\n    <tr>\n      <th>4</th>\n      <td>2016-01-06</td>\n      <td>2016</td>\n      <td>1</td>\n      <td>6</td>\n      <td>QUA</td>\n      <td>ONE</td>\n      <td>05:55:00</td>\n      <td>09:00:00</td>\n      <td>SBMO</td>\n      <td>SBGR</td>\n      <td>NORDESTE</td>\n      <td>SUDESTE</td>\n      <td>AL</td>\n      <td>SP</td>\n      <td>A320</td>\n      <td>1920</td>\n      <td>3.08</td>\n      <td>8498</td>\n      <td>162</td>\n      <td>131</td>\n      <td>1</td>\n      <td>18500</td>\n      <td>11750</td>\n      <td>33</td>\n      <td>0</td>\n      <td>0</td>\n      <td>311040.0</td>\n      <td>251520.0</td>\n      <td>35520.0</td>\n      <td>22416.0</td>\n      <td>0.808642</td>\n      <td>0.631081</td>\n      <td>0.2259</td>\n      <td>3.9973</td>\n      <td>540</td>\n    </tr>\n  </tbody>\n</table>\n</div>"
     },
     "execution_count": 24,
     "metadata": {},
     "output_type": "execute_result"
    }
   ]
  },
  {
   "cell_type": "markdown",
   "metadata": {
    "id": "a8280c50"
   },
   "source": [
    "# Primeira Seleção de Features "
   ],
   "id": "a8280c50"
  },
  {
   "cell_type": "code",
   "metadata": {
    "ExecuteTime": {
     "end_time": "2021-11-30T17:31:58.090382Z",
     "start_time": "2021-11-30T17:31:53.370798Z"
    },
    "colab": {
     "base_uri": "https://localhost:8080/",
     "height": 733
    },
    "id": "db8f694e",
    "outputId": "6652d590-f6ae-40bb-b8d5-406b0c3787cd"
   },
   "source": [
    "plt.figure(figsize=(8, 12))\n",
    "heatmap = sns.heatmap(df.corr()[['nr_passag_pagos']].sort_values(by='nr_passag_pagos', ascending=False), vmin=-1, vmax=1, annot=True, cmap='YlGnBu')\n",
    "heatmap.set_title('Features Correlating with price', fontdict={'fontsize':18}, pad=16);"
   ],
   "id": "db8f694e",
   "execution_count": 25,
   "outputs": [
    {
     "data": {
      "text/plain": "<Figure size 576x864 with 2 Axes>",
      "image/png": "[encoded data removed]"
     },
     "metadata": {},
     "output_type": "display_data"
    }
   ]
  },
  {
   "cell_type": "code",
   "metadata": {
    "ExecuteTime": {
     "end_time": "2021-11-30T17:31:58.105758Z",
     "start_time": "2021-11-30T17:31:58.091870Z"
    },
    "id": "a9c8273b"
   },
   "source": [
    "colunas = [\n",
    "    'dt',\n",
    "    'nm_dia_semana',\n",
    "    'hr_partida_real',\n",
    "    'hr_chegada_real',\n",
    "    'sg_equipamento_icao',\n",
    "    'km_distancia',\n",
    "    'nr_horas_voadas',\n",
    "    'lt_combustivel',\n",
    "    'nr_assentos_ofertados',\n",
    "    'nr_passag_pagos',\n",
    "    'kg_payload',\n",
    "    'rend_combustivel',\n",
    "    'dolar',\n",
    "    'nr_ano',\n",
    "    'nr_mes',\n",
    "    'sg_empresa_icao',\n",
    "    'sg_icao_origem',\n",
    "    'sg_icao_destino',\n",
    "    'ticket_medio'\n",
    "]"
   ],
   "id": "a9c8273b",
   "execution_count": 26,
   "outputs": []
  },
  {
   "cell_type": "code",
   "metadata": {
    "ExecuteTime": {
     "end_time": "2021-11-30T17:31:58.290072Z",
     "start_time": "2021-11-30T17:31:58.106769Z"
    },
    "id": "0ce3c8d4"
   },
   "source": [
    "df_tratado = df[colunas]"
   ],
   "id": "0ce3c8d4",
   "execution_count": 27,
   "outputs": []
  },
  {
   "cell_type": "code",
   "metadata": {
    "ExecuteTime": {
     "end_time": "2021-11-30T17:31:58.305452Z",
     "start_time": "2021-11-30T17:31:58.291105Z"
    },
    "colab": {
     "base_uri": "https://localhost:8080/",
     "height": 313
    },
    "id": "f55739dd",
    "outputId": "a1a974d5-bfed-4bb1-99a6-02777161dc5e"
   },
   "source": [
    "df_tratado.head()"
   ],
   "id": "f55739dd",
   "execution_count": 28,
   "outputs": [
    {
     "data": {
      "text/plain": "           dt nm_dia_semana hr_partida_real hr_chegada_real  \\\n0  2016-01-02           SAB        05:58:00        09:01:00   \n1  2016-01-03           DOM        05:53:00        08:57:00   \n2  2016-01-04           SEG        06:00:00        09:05:00   \n3  2016-01-05           TER        05:59:00        08:59:00   \n4  2016-01-06           QUA        05:55:00        09:00:00   \n\n  sg_equipamento_icao  km_distancia  nr_horas_voadas  lt_combustivel  \\\n0                A320          1920             3.05            8480   \n1                A320          1920             3.07            9009   \n2                A320          1920             3.08            8758   \n3                A320          1920             3.00            8512   \n4                A320          1920             3.08            8498   \n\n   nr_assentos_ofertados  nr_passag_pagos  kg_payload  rend_combustivel  \\\n0                    162              156       18100            0.2264   \n1                    162              158       18500            0.2131   \n2                    162              162       18500            0.2192   \n3                    162              144       18500            0.2256   \n4                    162              131       18500            0.2259   \n\n    dolar  nr_ano  nr_mes sg_empresa_icao sg_icao_origem sg_icao_destino  \\\n0  3.9973    2016       1             ONE           SBMO            SBGR   \n1  3.9973    2016       1             ONE           SBMO            SBGR   \n2  3.9973    2016       1             ONE           SBMO            SBGR   \n3  3.9973    2016       1             ONE           SBMO            SBGR   \n4  3.9973    2016       1             ONE           SBMO            SBGR   \n\n   ticket_medio  \n0           540  \n1           540  \n2           540  \n3           540  \n4           540  ",
      "text/html": "<div>\n<style scoped>\n    .dataframe tbody tr th:only-of-type {\n        vertical-align: middle;\n    }\n\n    .dataframe tbody tr th {\n        vertical-align: top;\n    }\n\n    .dataframe thead th {\n        text-align: right;\n    }\n</style>\n<table border=\"1\" class=\"dataframe\">\n  <thead>\n    <tr style=\"text-align: right;\">\n      <th></th>\n      <th>dt</th>\n      <th>nm_dia_semana</th>\n      <th>hr_partida_real</th>\n      <th>hr_chegada_real</th>\n      <th>sg_equipamento_icao</th>\n      <th>km_distancia</th>\n      <th>nr_horas_voadas</th>\n      <th>lt_combustivel</th>\n      <th>nr_assentos_ofertados</th>\n      <th>nr_passag_pagos</th>\n      <th>kg_payload</th>\n      <th>rend_combustivel</th>\n      <th>dolar</th>\n      <th>nr_ano</th>\n      <th>nr_mes</th>\n      <th>sg_empresa_icao</th>\n      <th>sg_icao_origem</th>\n      <th>sg_icao_destino</th>\n      <th>ticket_medio</th>\n    </tr>\n  </thead>\n  <tbody>\n    <tr>\n      <th>0</th>\n      <td>2016-01-02</td>\n      <td>SAB</td>\n      <td>05:58:00</td>\n      <td>09:01:00</td>\n      <td>A320</td>\n      <td>1920</td>\n      <td>3.05</td>\n      <td>8480</td>\n      <td>162</td>\n      <td>156</td>\n      <td>18100</td>\n      <td>0.2264</td>\n      <td>3.9973</td>\n      <td>2016</td>\n      <td>1</td>\n      <td>ONE</td>\n      <td>SBMO</td>\n      <td>SBGR</td>\n      <td>540</td>\n    </tr>\n    <tr>\n      <th>1</th>\n      <td>2016-01-03</td>\n      <td>DOM</td>\n      <td>05:53:00</td>\n      <td>08:57:00</td>\n      <td>A320</td>\n      <td>1920</td>\n      <td>3.07</td>\n      <td>9009</td>\n      <td>162</td>\n      <td>158</td>\n      <td>18500</td>\n      <td>0.2131</td>\n      <td>3.9973</td>\n      <td>2016</td>\n      <td>1</td>\n      <td>ONE</td>\n      <td>SBMO</td>\n      <td>SBGR</td>\n      <td>540</td>\n    </tr>\n    <tr>\n      <th>2</th>\n      <td>2016-01-04</td>\n      <td>SEG</td>\n      <td>06:00:00</td>\n      <td>09:05:00</td>\n      <td>A320</td>\n      <td>1920</td>\n      <td>3.08</td>\n      <td>8758</td>\n      <td>162</td>\n      <td>162</td>\n      <td>18500</td>\n      <td>0.2192</td>\n      <td>3.9973</td>\n      <td>2016</td>\n      <td>1</td>\n      <td>ONE</td>\n      <td>SBMO</td>\n      <td>SBGR</td>\n      <td>540</td>\n    </tr>\n    <tr>\n      <th>3</th>\n      <td>2016-01-05</td>\n      <td>TER</td>\n      <td>05:59:00</td>\n      <td>08:59:00</td>\n      <td>A320</td>\n      <td>1920</td>\n      <td>3.00</td>\n      <td>8512</td>\n      <td>162</td>\n      <td>144</td>\n      <td>18500</td>\n      <td>0.2256</td>\n      <td>3.9973</td>\n      <td>2016</td>\n      <td>1</td>\n      <td>ONE</td>\n      <td>SBMO</td>\n      <td>SBGR</td>\n      <td>540</td>\n    </tr>\n    <tr>\n      <th>4</th>\n      <td>2016-01-06</td>\n      <td>QUA</td>\n      <td>05:55:00</td>\n      <td>09:00:00</td>\n      <td>A320</td>\n      <td>1920</td>\n      <td>3.08</td>\n      <td>8498</td>\n      <td>162</td>\n      <td>131</td>\n      <td>18500</td>\n      <td>0.2259</td>\n      <td>3.9973</td>\n      <td>2016</td>\n      <td>1</td>\n      <td>ONE</td>\n      <td>SBMO</td>\n      <td>SBGR</td>\n      <td>540</td>\n    </tr>\n  </tbody>\n</table>\n</div>"
     },
     "execution_count": 28,
     "metadata": {},
     "output_type": "execute_result"
    }
   ]
  },
  {
   "cell_type": "code",
   "metadata": {
    "ExecuteTime": {
     "end_time": "2021-11-30T17:31:58.567081Z",
     "start_time": "2021-11-30T17:31:58.306471Z"
    },
    "id": "6976d66c"
   },
   "source": [
    "def editar(x): \n",
    "    x = re.sub(\"[^0-9]\", \"\", str(x))\n",
    "    return x[0:2]\n",
    "df_tratado['hr_partida_real'] = df_tratado['hr_partida_real'].apply(editar)\n",
    "df_tratado['hr_chegada_real'] = df_tratado['hr_chegada_real'].apply(editar)"
   ],
   "id": "6976d66c",
   "execution_count": 29,
   "outputs": []
  },
  {
   "cell_type": "code",
   "metadata": {
    "ExecuteTime": {
     "end_time": "2021-11-30T17:31:58.874840Z",
     "start_time": "2021-11-30T17:31:58.568073Z"
    },
    "id": "c9e2dd90"
   },
   "source": [
    "df_tratado = df_tratado[(df_tratado['sg_empresa_icao'] == 'AZU') | (df_tratado['sg_empresa_icao'] == 'GLO') | (df_tratado['sg_empresa_icao'] == 'TAM')]"
   ],
   "id": "c9e2dd90",
   "execution_count": 30,
   "outputs": []
  },
  {
   "cell_type": "code",
   "metadata": {
    "ExecuteTime": {
     "end_time": "2021-11-30T17:31:58.890077Z",
     "start_time": "2021-11-30T17:31:58.875693Z"
    },
    "colab": {
     "base_uri": "https://localhost:8080/",
     "height": 313
    },
    "id": "afd032a3",
    "outputId": "79518f03-a004-4308-a72f-982bd2e43ed5"
   },
   "source": [
    "df_tratado.head()"
   ],
   "id": "afd032a3",
   "execution_count": 31,
   "outputs": [
    {
     "data": {
      "text/plain": "              dt nm_dia_semana hr_partida_real hr_chegada_real  \\\n5780  2016-01-01           SEX              06              07   \n5781  2016-01-03           DOM              20              21   \n5782  2016-01-03           DOM              07              08   \n5783  2016-01-03           DOM              10              11   \n5784  2016-01-04           SEG              10              11   \n\n     sg_equipamento_icao  km_distancia  nr_horas_voadas  lt_combustivel  \\\n5780                E195           349             0.83            1928   \n5781                E190           349             1.00            2025   \n5782                E195           349             0.98            2075   \n5783                E190           349             0.92            1899   \n5784                E195           349             0.92            1914   \n\n      nr_assentos_ofertados  nr_passag_pagos  kg_payload  rend_combustivel  \\\n5780                    118              105       16143            0.1810   \n5781                    106               76       12858            0.1723   \n5782                    118              106       13493            0.1682   \n5783                    106               86       12858            0.1838   \n5784                    118               93       13493            0.1823   \n\n       dolar  nr_ano  nr_mes sg_empresa_icao sg_icao_origem sg_icao_destino  \\\n5780  3.9973    2016       1             AZU           SBCT            SBKP   \n5781  3.9973    2016       1             AZU           SBCT            SBKP   \n5782  3.9973    2016       1             AZU           SBCT            SBKP   \n5783  3.9973    2016       1             AZU           SBCT            SBKP   \n5784  3.9973    2016       1             AZU           SBCT            SBKP   \n\n      ticket_medio  \n5780           330  \n5781           330  \n5782           330  \n5783           330  \n5784           330  ",
      "text/html": "<div>\n<style scoped>\n    .dataframe tbody tr th:only-of-type {\n        vertical-align: middle;\n    }\n\n    .dataframe tbody tr th {\n        vertical-align: top;\n    }\n\n    .dataframe thead th {\n        text-align: right;\n    }\n</style>\n<table border=\"1\" class=\"dataframe\">\n  <thead>\n    <tr style=\"text-align: right;\">\n      <th></th>\n      <th>dt</th>\n      <th>nm_dia_semana</th>\n      <th>hr_partida_real</th>\n      <th>hr_chegada_real</th>\n      <th>sg_equipamento_icao</th>\n      <th>km_distancia</th>\n      <th>nr_horas_voadas</th>\n      <th>lt_combustivel</th>\n      <th>nr_assentos_ofertados</th>\n      <th>nr_passag_pagos</th>\n      <th>kg_payload</th>\n      <th>rend_combustivel</th>\n      <th>dolar</th>\n      <th>nr_ano</th>\n      <th>nr_mes</th>\n      <th>sg_empresa_icao</th>\n      <th>sg_icao_origem</th>\n      <th>sg_icao_destino</th>\n      <th>ticket_medio</th>\n    </tr>\n  </thead>\n  <tbody>\n    <tr>\n      <th>5780</th>\n      <td>2016-01-01</td>\n      <td>SEX</td>\n      <td>06</td>\n      <td>07</td>\n      <td>E195</td>\n      <td>349</td>\n      <td>0.83</td>\n      <td>1928</td>\n      <td>118</td>\n      <td>105</td>\n      <td>16143</td>\n      <td>0.1810</td>\n      <td>3.9973</td>\n      <td>2016</td>\n      <td>1</td>\n      <td>AZU</td>\n      <td>SBCT</td>\n      <td>SBKP</td>\n      <td>330</td>\n    </tr>\n    <tr>\n      <th>5781</th>\n      <td>2016-01-03</td>\n      <td>DOM</td>\n      <td>20</td>\n      <td>21</td>\n      <td>E190</td>\n      <td>349</td>\n      <td>1.00</td>\n      <td>2025</td>\n      <td>106</td>\n      <td>76</td>\n      <td>12858</td>\n      <td>0.1723</td>\n      <td>3.9973</td>\n      <td>2016</td>\n      <td>1</td>\n      <td>AZU</td>\n      <td>SBCT</td>\n      <td>SBKP</td>\n      <td>330</td>\n    </tr>\n    <tr>\n      <th>5782</th>\n      <td>2016-01-03</td>\n      <td>DOM</td>\n      <td>07</td>\n      <td>08</td>\n      <td>E195</td>\n      <td>349</td>\n      <td>0.98</td>\n      <td>2075</td>\n      <td>118</td>\n      <td>106</td>\n      <td>13493</td>\n      <td>0.1682</td>\n      <td>3.9973</td>\n      <td>2016</td>\n      <td>1</td>\n      <td>AZU</td>\n      <td>SBCT</td>\n      <td>SBKP</td>\n      <td>330</td>\n    </tr>\n    <tr>\n      <th>5783</th>\n      <td>2016-01-03</td>\n      <td>DOM</td>\n      <td>10</td>\n      <td>11</td>\n      <td>E190</td>\n      <td>349</td>\n      <td>0.92</td>\n      <td>1899</td>\n      <td>106</td>\n      <td>86</td>\n      <td>12858</td>\n      <td>0.1838</td>\n      <td>3.9973</td>\n      <td>2016</td>\n      <td>1</td>\n      <td>AZU</td>\n      <td>SBCT</td>\n      <td>SBKP</td>\n      <td>330</td>\n    </tr>\n    <tr>\n      <th>5784</th>\n      <td>2016-01-04</td>\n      <td>SEG</td>\n      <td>10</td>\n      <td>11</td>\n      <td>E195</td>\n      <td>349</td>\n      <td>0.92</td>\n      <td>1914</td>\n      <td>118</td>\n      <td>93</td>\n      <td>13493</td>\n      <td>0.1823</td>\n      <td>3.9973</td>\n      <td>2016</td>\n      <td>1</td>\n      <td>AZU</td>\n      <td>SBCT</td>\n      <td>SBKP</td>\n      <td>330</td>\n    </tr>\n  </tbody>\n</table>\n</div>"
     },
     "execution_count": 31,
     "metadata": {},
     "output_type": "execute_result"
    }
   ]
  },
  {
   "cell_type": "code",
   "metadata": {
    "ExecuteTime": {
     "end_time": "2021-11-30T17:32:00.027900Z",
     "start_time": "2021-11-30T17:31:58.892557Z"
    },
    "colab": {
     "base_uri": "https://localhost:8080/",
     "height": 515
    },
    "id": "6a2f86f6",
    "outputId": "99c10ddb-0265-46af-98ed-b744c83d5546"
   },
   "source": [
    "plt.figure(figsize=(8, 8))\n",
    "heatmap = sns.heatmap(df_tratado.corr()[['nr_passag_pagos']].sort_values(by='nr_passag_pagos', ascending=False), vmin=-1, vmax=1, annot=True, cmap='YlGnBu')\n",
    "heatmap.set_title('Features Correlating with price', fontdict={'fontsize':18}, pad=16);"
   ],
   "id": "6a2f86f6",
   "execution_count": 32,
   "outputs": [
    {
     "data": {
      "text/plain": "<Figure size 576x576 with 2 Axes>",
      "image/png": "[encoded data removed]"
     },
     "metadata": {},
     "output_type": "display_data"
    }
   ]
  },
  {
   "cell_type": "markdown",
   "metadata": {
    "id": "f6e405fb"
   },
   "source": [
    "# Seleção final das features"
   ],
   "id": "f6e405fb"
  },
  {
   "cell_type": "code",
   "metadata": {
    "ExecuteTime": {
     "end_time": "2021-11-30T17:32:00.043276Z",
     "start_time": "2021-11-30T17:32:00.029389Z"
    },
    "id": "3b5f6eb5"
   },
   "source": [
    "num_col = [\n",
    "    'km_distancia',\n",
    "    'nr_horas_voadas',\n",
    "    'lt_combustivel',\n",
    "    'nr_assentos_ofertados',\n",
    "    'kg_payload',\n",
    "    'rend_combustivel',\n",
    "    'ticket_medio'\n",
    "]\n",
    "\n",
    "cat_col = [\n",
    "    'nr_ano',\n",
    "    'nr_mes',\n",
    "    'nm_dia_semana',\n",
    "    'sg_equipamento_icao',\n",
    "    'sg_empresa_icao',\n",
    "    'sg_icao_origem',\n",
    "    'sg_icao_destino',\n",
    "    'hr_partida_real',\n",
    "    'hr_chegada_real',\n",
    "]\n",
    "\n",
    "target = ['nr_passag_pagos']"
   ],
   "id": "3b5f6eb5",
   "execution_count": 47,
   "outputs": []
  },
  {
   "cell_type": "code",
   "execution_count": 48,
   "outputs": [],
   "source": [
    "df_final = df_tratado[cat_col + num_col + target]"
   ],
   "metadata": {
    "collapsed": false,
    "pycharm": {
     "name": "#%%\n"
    }
   }
  },
  {
   "cell_type": "markdown",
   "metadata": {
    "id": "8ed66b2a"
   },
   "source": [
    "Dividimos em dois datasets, um com os anos de 2017 a 2019 e outro somente dos anos de ocorrencia do covid"
   ],
   "id": "8ed66b2a"
  },
  {
   "cell_type": "code",
   "metadata": {
    "ExecuteTime": {
     "end_time": "2021-11-30T17:32:00.228003Z",
     "start_time": "2021-11-30T17:32:00.044765Z"
    },
    "id": "b417d9f5"
   },
   "source": [
    "df_modelo_2017_19 = df_final[(df_final['nr_ano'] > 2016) & (df_final['nr_ano'] <= 2019)]\n",
    "df_modelo_2020_21 = df_final[df_final['nr_ano'] > 2019]"
   ],
   "id": "b417d9f5",
   "execution_count": 49,
   "outputs": []
  },
  {
   "cell_type": "markdown",
   "metadata": {
    "id": "f5cdc786"
   },
   "source": [
    "# Dividindo o Dataset"
   ],
   "id": "f5cdc786"
  },
  {
   "cell_type": "code",
   "metadata": {
    "ExecuteTime": {
     "end_time": "2021-11-30T17:32:31.393946Z",
     "start_time": "2021-11-30T17:32:31.331009Z"
    },
    "id": "15600761"
   },
   "source": [
    "X = df_modelo_2017_19.drop('nr_passag_pagos', axis=1)\n",
    "y = df_modelo_2017_19['nr_passag_pagos']"
   ],
   "id": "15600761",
   "execution_count": 38,
   "outputs": []
  },
  {
   "cell_type": "code",
   "metadata": {
    "ExecuteTime": {
     "end_time": "2021-11-30T17:32:33.181590Z",
     "start_time": "2021-11-30T17:32:32.821943Z"
    },
    "id": "f7ebdc6f"
   },
   "source": [
    "X_train, X_test, y_train, y_test = train_test_split(X, y, test_size=0.2, random_state=42)"
   ],
   "id": "f7ebdc6f",
   "execution_count": 50,
   "outputs": []
  },
  {
   "cell_type": "markdown",
   "metadata": {
    "id": "4c31b5d6"
   },
   "source": [
    "# Redução de Dimensionalidade com PCA\n",
    "cuidado com essa parte no colab, pode dar erro por conta da memoria disponibilizada"
   ],
   "id": "4c31b5d6"
  },
  {
   "cell_type": "code",
   "metadata": {
    "ExecuteTime": {
     "end_time": "2021-11-30T17:32:41.943951Z",
     "start_time": "2021-11-30T17:32:39.373480Z"
    },
    "id": "a39c47f5"
   },
   "source": [
    "X_train_pca = pd.get_dummies(X_train[cat_col])"
   ],
   "id": "a39c47f5",
   "execution_count": 51,
   "outputs": []
  },
  {
   "cell_type": "markdown",
   "metadata": {
    "id": "b22d1b14"
   },
   "source": [
    "Essa forma de PCA da um suspiro pra memória!!"
   ],
   "id": "b22d1b14"
  },
  {
   "cell_type": "code",
   "metadata": {
    "ExecuteTime": {
     "end_time": "2021-11-30T17:33:13.423105Z",
     "start_time": "2021-11-30T17:32:44.330725Z"
    },
    "id": "da153879",
    "outputId": "971648c5-eb19-4715-b5ca-ac03c00e9dd1"
   },
   "source": [
    "n_batches = 100\n",
    "pca = IncrementalPCA(n_components=4)\n",
    "for X_batch in np.array_split(X_train_pca, n_batches):\n",
    "  pca.partial_fit(X_batch)\n",
    "pca.explained_variance_ratio_.sum()*100"
   ],
   "id": "da153879",
   "execution_count": 54,
   "outputs": [
    {
     "data": {
      "text/plain": "72.83133116697407"
     },
     "execution_count": 54,
     "metadata": {},
     "output_type": "execute_result"
    }
   ]
  },
  {
   "cell_type": "code",
   "metadata": {
    "ExecuteTime": {
     "end_time": "2021-11-30T17:33:13.438483Z",
     "start_time": "2021-11-30T17:33:13.424593Z"
    },
    "id": "9785b71a",
    "outputId": "c1a9892d-6735-4aeb-99ee-3fec0f92ead5"
   },
   "source": [
    "pca.components_.shape"
   ],
   "id": "9785b71a",
   "execution_count": 55,
   "outputs": [
    {
     "data": {
      "text/plain": "(4, 387)"
     },
     "execution_count": 55,
     "metadata": {},
     "output_type": "execute_result"
    }
   ]
  },
  {
   "cell_type": "code",
   "metadata": {
    "ExecuteTime": {
     "end_time": "2021-11-30T17:44:07.270267Z",
     "start_time": "2021-11-30T17:44:02.916876Z"
    },
    "id": "3110721b"
   },
   "source": [
    "X_train_pca_final = pd.DataFrame(data=pca.transform(X_train_pca), columns=[f'pca{i}' for i in range(1, 5)], index=X_train.index)\n",
    "X_test_pca_final = pd.DataFrame(data=pca.transform(pd.get_dummies(X_test[cat_col])), columns=[f'pca{i}' for i in range(1, 5)], index=X_test.index)"
   ],
   "id": "3110721b",
   "execution_count": 57,
   "outputs": []
  },
  {
   "cell_type": "code",
   "metadata": {
    "ExecuteTime": {
     "end_time": "2021-11-30T17:45:04.766798Z",
     "start_time": "2021-11-30T17:45:04.585404Z"
    },
    "id": "40f3738f"
   },
   "source": [
    "X_train = pd.concat([X_train[num_col], X_train_pca_final], axis=1)\n",
    "X_test = pd.concat([X_test[num_col], X_test_pca_final], axis=1)"
   ],
   "id": "40f3738f",
   "execution_count": 58,
   "outputs": []
  },
  {
   "cell_type": "markdown",
   "metadata": {
    "id": "8602952f"
   },
   "source": [
    "# Treinamento do modelo"
   ],
   "id": "8602952f"
  },
  {
   "cell_type": "code",
   "metadata": {
    "ExecuteTime": {
     "end_time": "2021-11-30T17:45:29.031311Z",
     "start_time": "2021-11-30T17:45:29.022879Z"
    },
    "id": "99787881"
   },
   "source": [
    "steps = [\n",
    "    ('scaler', MinMaxScaler()),\n",
    "    ('rfr', RandomForestRegressor(n_estimators=50, max_depth=40, random_state=42, n_jobs=-1))\n",
    "]"
   ],
   "id": "99787881",
   "execution_count": 59,
   "outputs": []
  },
  {
   "cell_type": "code",
   "metadata": {
    "ExecuteTime": {
     "end_time": "2021-11-30T17:48:43.418476Z",
     "start_time": "2021-11-30T17:45:34.163944Z"
    },
    "colab": {
     "base_uri": "https://localhost:8080/",
     "height": 328
    },
    "id": "88da8313",
    "outputId": "8f3e7c3f-7609-4f58-c35f-36e3b845e59b"
   },
   "source": [
    "pipe = Pipeline(steps=steps, verbose=True)\n",
    "pipe.fit(X_train, y_train)"
   ],
   "id": "88da8313",
   "execution_count": 60,
   "outputs": [
    {
     "name": "stdout",
     "output_type": "stream",
     "text": [
      "[Pipeline] ............ (step 1 of 2) Processing scaler, total=   0.2s\n",
      "[Pipeline] ............... (step 2 of 2) Processing rfr, total= 1.9min\n"
     ]
    },
    {
     "data": {
      "text/plain": "Pipeline(steps=[('scaler', MinMaxScaler()),\n                ('rfr',\n                 RandomForestRegressor(max_depth=40, n_estimators=50, n_jobs=-1,\n                                       random_state=42))],\n         verbose=True)"
     },
     "execution_count": 60,
     "metadata": {},
     "output_type": "execute_result"
    }
   ]
  },
  {
   "cell_type": "code",
   "metadata": {
    "ExecuteTime": {
     "end_time": "2021-11-30T17:48:45.309695Z",
     "start_time": "2021-11-30T17:48:43.419936Z"
    },
    "id": "e05095ce"
   },
   "source": [
    "y_pred = pipe.predict(X_test)"
   ],
   "id": "e05095ce",
   "execution_count": 61,
   "outputs": []
  },
  {
   "cell_type": "code",
   "metadata": {
    "ExecuteTime": {
     "end_time": "2021-11-30T17:51:00.724344Z",
     "start_time": "2021-11-30T17:51:00.706460Z"
    },
    "id": "4eb6fb6b",
    "outputId": "11fae928-d89b-4b09-a298-6bfdb2d70d5f"
   },
   "source": [
    "metrics.r2_score(y_test, y_pred)"
   ],
   "id": "4eb6fb6b",
   "execution_count": 62,
   "outputs": [
    {
     "data": {
      "text/plain": "0.751564925178327"
     },
     "execution_count": 62,
     "metadata": {},
     "output_type": "execute_result"
    }
   ]
  },
  {
   "cell_type": "code",
   "metadata": {
    "ExecuteTime": {
     "end_time": "2021-11-30T17:51:28.252918Z",
     "start_time": "2021-11-30T17:51:28.234566Z"
    },
    "id": "e10b7641",
    "outputId": "524a7424-11f7-4987-e507-6eb48af6dc6b"
   },
   "source": [
    "metrics.mean_absolute_error(y_test, y_pred)"
   ],
   "id": "e10b7641",
   "execution_count": null,
   "outputs": [
    {
     "data": {
      "text/plain": [
       "14.22160764766309"
      ]
     },
     "execution_count": 95,
     "metadata": {},
     "output_type": "execute_result"
    }
   ]
  },
  {
   "cell_type": "markdown",
   "metadata": {
    "ExecuteTime": {
     "end_time": "2021-11-28T21:36:38.204121Z",
     "start_time": "2021-11-28T21:36:38.191723Z"
    },
    "id": "d1f80b0d"
   },
   "source": [
    "## Cross Validation"
   ],
   "id": "d1f80b0d"
  },
  {
   "cell_type": "code",
   "metadata": {
    "ExecuteTime": {
     "end_time": "2021-11-28T23:56:21.314957Z",
     "start_time": "2021-11-28T23:44:15.798572Z"
    },
    "id": "7c2b35cc",
    "outputId": "b8da8a30-bdb8-4cd0-abc6-2c6c7deb6a0a"
   },
   "source": [
    "cv = cross_validate(pipe, X_train, y_train, verbose=5, cv=5)"
   ],
   "id": "7c2b35cc",
   "execution_count": null,
   "outputs": [
    {
     "name": "stderr",
     "output_type": "stream",
     "text": [
      "[Parallel(n_jobs=1)]: Using backend SequentialBackend with 1 concurrent workers.\n"
     ]
    },
    {
     "name": "stdout",
     "output_type": "stream",
     "text": [
      "[Pipeline] ............ (step 1 of 2) Processing scaler, total=   0.3s\n",
      "[Pipeline] ............... (step 2 of 2) Processing rfr, total= 2.4min\n",
      "[CV] END ......................................., score=0.768 total time= 2.4min\n"
     ]
    },
    {
     "name": "stderr",
     "output_type": "stream",
     "text": [
      "[Parallel(n_jobs=1)]: Done   1 out of   1 | elapsed:  2.4min remaining:    0.0s\n"
     ]
    },
    {
     "name": "stdout",
     "output_type": "stream",
     "text": [
      "[Pipeline] ............ (step 1 of 2) Processing scaler, total=   0.3s\n",
      "[Pipeline] ............... (step 2 of 2) Processing rfr, total= 2.4min\n",
      "[CV] END ......................................., score=0.767 total time= 2.4min\n"
     ]
    },
    {
     "name": "stderr",
     "output_type": "stream",
     "text": [
      "[Parallel(n_jobs=1)]: Done   2 out of   2 | elapsed:  4.9min remaining:    0.0s\n"
     ]
    },
    {
     "name": "stdout",
     "output_type": "stream",
     "text": [
      "[Pipeline] ............ (step 1 of 2) Processing scaler, total=   0.3s\n",
      "[Pipeline] ............... (step 2 of 2) Processing rfr, total= 2.4min\n",
      "[CV] END ......................................., score=0.767 total time= 2.4min\n"
     ]
    },
    {
     "name": "stderr",
     "output_type": "stream",
     "text": [
      "[Parallel(n_jobs=1)]: Done   3 out of   3 | elapsed:  7.3min remaining:    0.0s\n"
     ]
    },
    {
     "name": "stdout",
     "output_type": "stream",
     "text": [
      "[Pipeline] ............ (step 1 of 2) Processing scaler, total=   0.3s\n",
      "[Pipeline] ............... (step 2 of 2) Processing rfr, total= 2.4min\n",
      "[CV] END ......................................., score=0.768 total time= 2.4min\n"
     ]
    },
    {
     "name": "stderr",
     "output_type": "stream",
     "text": [
      "[Parallel(n_jobs=1)]: Done   4 out of   4 | elapsed:  9.7min remaining:    0.0s\n"
     ]
    },
    {
     "name": "stdout",
     "output_type": "stream",
     "text": [
      "[Pipeline] ............ (step 1 of 2) Processing scaler, total=   0.3s\n",
      "[Pipeline] ............... (step 2 of 2) Processing rfr, total= 2.4min\n",
      "[CV] END ......................................., score=0.766 total time= 2.4min\n"
     ]
    },
    {
     "name": "stderr",
     "output_type": "stream",
     "text": [
      "[Parallel(n_jobs=1)]: Done   5 out of   5 | elapsed: 12.1min finished\n"
     ]
    }
   ]
  },
  {
   "cell_type": "code",
   "metadata": {
    "ExecuteTime": {
     "end_time": "2021-11-29T00:55:06.045556Z",
     "start_time": "2021-11-29T00:55:06.031668Z"
    },
    "id": "7efd130d",
    "outputId": "d172a9ad-b2fc-4b67-cf2e-7042720c5b47"
   },
   "source": [
    "cv['test_score'].mean()"
   ],
   "id": "7efd130d",
   "execution_count": null,
   "outputs": [
    {
     "data": {
      "text/plain": [
       "0.7671045806242038"
      ]
     },
     "execution_count": 57,
     "metadata": {},
     "output_type": "execute_result"
    }
   ]
  },
  {
   "cell_type": "markdown",
   "metadata": {
    "id": "214af79c"
   },
   "source": [
    "O modelo não está com overfitting!!!!"
   ],
   "id": "214af79c"
  }
 ]
}